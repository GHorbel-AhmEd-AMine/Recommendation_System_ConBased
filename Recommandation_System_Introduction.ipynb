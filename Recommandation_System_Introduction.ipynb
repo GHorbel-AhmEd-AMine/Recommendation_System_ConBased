{
 "cells": [
  {
   "cell_type": "markdown",
   "metadata": {},
   "source": [
    "### Definition : "
   ]
  },
  {
   "cell_type": "markdown",
   "metadata": {},
   "source": [
    "Même si les goûts des gens peuvent varier, ils suivent généralement desa attitudes.\n",
    "Je veux dire par là qu'il y a des similitudes dans les choses que les gens ont tendance à aimer... ou une autre façon de voir les choses, c'est que les gens ont tendance à aimer les choses de la même catégorie ou des choses qui partagent les mêmes caractéristiques. Par exemple, si vous avez récemment acheté un livre sur l'apprentissage automatique en python et que vous avez pris plaisir à le lire, il est très probable que vous apprécierez également la lecture d'un livre sur la visualisation des données.\n",
    "Les gens ont aussi tendance à avoir des goûts similaires à ceux de leurs proches leur vie.\n",
    "\n",
    "Les systèmes de recommandation tentent de saisir ces modèles et autres comportements similaires, pour vous aider à prévoir ce que vous pourriez aimer.\n",
    "\n"
   ]
  },
  {
   "cell_type": "markdown",
   "metadata": {},
   "source": [
    "### Applications : "
   ]
  },
  {
   "cell_type": "markdown",
   "metadata": {},
   "source": [
    "Les systèmes de recommandation ont de nombreuses applications que vous connaissez déjà. En effet, les systèmes de recommandation sont généralement pour principe de jouer sur de nombreux sites web. Par exemple, en suggérant des livres sur Amazon et des films sur Netflix. En fait, tout ce qui se trouve sur le site de Netflix est déterminée par la sélection des clients. Si un certain film est regardé fréquemment Le système de recommandation de Netflix garantit que ce film sera de plus en plus diffusé de recommandations.\n",
    "Un autre exemple se trouve dans une application mobile utilisée quotidiennement, où un moteur de recommandation est avait l'habitude de recommander n'importe quoi, que ce soit l'endroit où manger ou l'emploi auquel postuler.\n",
    "Sur les médias sociaux, des sites comme Facebook ou LinkedIn, recommandent régulièrement des amitiés.\n",
    "\n",
    "Des systèmes de recommandation sont même utilisés pour personnaliser votre expérience sur le web.\n",
    "Par exemple, lorsque vous vous rendez sur un site web de plateforme d'information, un système de recommandation vous permet de noter des types d'histoires sur lesquelles vous avez cliqué et faire des recommandations sur les types de des histoires que vous pourriez être intéressé à lire, à l'avenir.\n",
    "Il existe de nombreux exemples de ce type et leur nombre augmente chaque jour."
   ]
  },
  {
   "cell_type": "markdown",
   "metadata": {},
   "source": [
    "### Avantages : "
   ]
  },
  {
   "cell_type": "markdown",
   "metadata": {},
   "source": [
    "L'un des principaux avantages de l'utilisation des systèmes de recommandation est que les utilisateurs bénéficient d'une exposition plus large à nombreux produits différents qui pourraient les intéresser.\n",
    "Cette exposition encourage les utilisateurs à utiliser ou à acheter leur produit de manière continue.\n",
    "Non seulement cela offre une meilleure expérience à l'utilisateur, mais cela profite aussi au fournisseur de services, ainsi qu'une augmentation des revenus potentiels et une meilleure sécurité pour ses clients."
   ]
  },
  {
   "cell_type": "markdown",
   "metadata": {},
   "source": [
    "### Les 2 types de systèmes de recommandation :  "
   ]
  },
  {
   "cell_type": "markdown",
   "metadata": {},
   "source": [
    "Il existe généralement deux grands types de systèmes de recommandation : Le filtrage basé sur le contenu(Content-based) et le filtrage collaboratif(collaborative Filtering).\n",
    "La principale différence entre chacun d'eux peut être résumée par le type de déclaration qu'un consommateur pourrait faire. Par exemple, le principal paradigme d'un système de recommandation Content-based est piloté par la déclaration : \"Montrez-moi plus de ce que j'ai déjà aimé.\"\n",
    "Les systèmes basés sur le contenu tentent de déterminer ce que les aspects préférés d'un utilisateur sont, et ensuite faire des recommandations sur les éléments qui partagent ces aspects.\n",
    "\n",
    "Le filtrage collaboratif est basé sur le principe suivant : \"Dites-moi ce qui est populaire parmi mes des voisins parce que je pourrais aussi l'aimer\". Les techniques de filtrage collaboratif trouvent des groupes d'utilisateurs, et fournir des recommandations basées sur les goûts similaires au sein de ce groupe.\n",
    "En bref, il suppose qu'un utilisateur pourrait être intéressé par ce qui intéresse des utilisateurs similaires.\n",
    "Il existe également des systèmes de recommandation hybrides, qui combinent divers mécanismes."
   ]
  },
  {
   "cell_type": "markdown",
   "metadata": {},
   "source": [
    "### Les types de mise en oeuvre des systèmes de recommandations : "
   ]
  },
  {
   "cell_type": "markdown",
   "metadata": {},
   "source": [
    "En ce qui concerne la mise en œuvre des systèmes de recommandation, il en existe deux types : à base de mémoire(Memoey-based)  et à base de modèles(model-based).\n",
    "Dans les approches basées sur la mémoire, nous utilisons l'ensemble des données de l'utilisateur pour générer un système de recommandation. Il utilise des techniques statistiques pour approximer les utilisateurs ou les articles. Voici quelques exemples de ces techniques : Pearson Corrélation, similarité cosinus et distance euclidienne, entre autres.\n",
    "Dans les approches basées sur des modèles, un modèle d'utilisateurs est développé pour tenter d'apprendre leur préférences. Les modèles peuvent être créés en utilisant des techniques de l'apprentissage automatique comme la régression, le regroupement, la classification, etc.\n"
   ]
  },
  {
   "cell_type": "code",
   "execution_count": null,
   "metadata": {},
   "outputs": [],
   "source": []
  }
 ],
 "metadata": {
  "kernelspec": {
   "display_name": "Python 3",
   "language": "python",
   "name": "python3"
  },
  "language_info": {
   "codemirror_mode": {
    "name": "ipython",
    "version": 3
   },
   "file_extension": ".py",
   "mimetype": "text/x-python",
   "name": "python",
   "nbconvert_exporter": "python",
   "pygments_lexer": "ipython3",
   "version": "3.7.4"
  }
 },
 "nbformat": 4,
 "nbformat_minor": 2
}
